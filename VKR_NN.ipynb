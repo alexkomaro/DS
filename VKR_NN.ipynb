{
 "cells": [
  {
   "cell_type": "markdown",
   "id": "cb9d69e9",
   "metadata": {
    "pycharm": {
     "name": "#%% md\n"
    }
   },
   "source": [
    "# Импорт библиотек и датасетов"
   ]
  },
  {
   "cell_type": "code",
   "execution_count": 1,
   "id": "08d84727",
   "metadata": {
    "pycharm": {
     "name": "#%%\n"
    }
   },
   "outputs": [],
   "source": [
    "import pandas as pd\n",
    "df = pd.read_csv(\"data/df_before_norm.csv\")\n",
    "df_norm = pd.read_csv(\"data/df_norm.csv\")"
   ]
  },
  {
   "cell_type": "markdown",
   "id": "64e31cd8",
   "metadata": {
    "pycharm": {
     "name": "#%% md\n"
    }
   },
   "source": [
    "# Создание нейронной сети"
   ]
  },
  {
   "cell_type": "code",
   "execution_count": 6,
   "id": "c5b49a34",
   "metadata": {
    "pycharm": {
     "name": "#%%\n"
    }
   },
   "outputs": [],
   "source": [
    "import tensorflow as tf\n",
    "\n",
    "from tensorflow import keras\n",
    "from tensorflow.keras import layers\n",
    "from tensorflow.keras import Sequential\n",
    "from tensorflow.keras.layers import Dense"
   ]
  },
  {
   "cell_type": "code",
   "execution_count": 7,
   "id": "643490b4",
   "metadata": {
    "pycharm": {
     "name": "#%%\n"
    }
   },
   "outputs": [],
   "source": [
    "X = df_norm.drop(['Соотношение матрица-наполнитель'], axis=1)\n",
    "Y = df_norm['Соотношение матрица-наполнитель']"
   ]
  },
  {
   "cell_type": "code",
   "execution_count": 8,
   "id": "31b2587e",
   "metadata": {
    "pycharm": {
     "name": "#%%\n"
    }
   },
   "outputs": [],
   "source": [
    "from sklearn.model_selection import train_test_split\n",
    "\n",
    "X_train, X_test, Y_train, Y_test = train_test_split(X, Y, test_size=0.3, random_state=1)"
   ]
  },
  {
   "cell_type": "code",
   "execution_count": 9,
   "id": "22195d26",
   "metadata": {
    "pycharm": {
     "name": "#%%\n"
    }
   },
   "outputs": [
    {
     "name": "stdout",
     "output_type": "stream",
     "text": [
      "Model: \"sequential\"\n",
      "_________________________________________________________________\n",
      " Layer (type)                Output Shape              Param #   \n",
      "=================================================================\n",
      " dense (Dense)               (None, 12)                156       \n",
      "                                                                 \n",
      " dense_1 (Dense)             (None, 32)                416       \n",
      "                                                                 \n",
      " dense_2 (Dense)             (None, 64)                2112      \n",
      "                                                                 \n",
      " dense_3 (Dense)             (None, 128)               8320      \n",
      "                                                                 \n",
      " dense_4 (Dense)             (None, 256)               33024     \n",
      "                                                                 \n",
      " dense_5 (Dense)             (None, 128)               32896     \n",
      "                                                                 \n",
      " dense_6 (Dense)             (None, 64)                8256      \n",
      "                                                                 \n",
      " dense_7 (Dense)             (None, 32)                2080      \n",
      "                                                                 \n",
      " dense_8 (Dense)             (None, 16)                528       \n",
      "                                                                 \n",
      " dense_9 (Dense)             (None, 8)                 136       \n",
      "                                                                 \n",
      " dense_10 (Dense)            (None, 4)                 36        \n",
      "                                                                 \n",
      " dense_11 (Dense)            (None, 1)                 5         \n",
      "                                                                 \n",
      "=================================================================\n",
      "Total params: 87,965\n",
      "Trainable params: 87,965\n",
      "Non-trainable params: 0\n",
      "_________________________________________________________________\n"
     ]
    }
   ],
   "source": [
    "model = Sequential([\n",
    "    Dense(12, activation = 'relu', input_dim=12),\n",
    "    Dense(32, activation = 'relu'),\n",
    "    Dense(64, activation = 'relu'),\n",
    "    Dense(128, activation = 'relu'),\n",
    "    Dense(256, activation = 'relu'),\n",
    "    Dense(128, activation = 'relu'),\n",
    "    Dense(64, activation = 'relu'),\n",
    "    Dense(32, activation = 'relu'),\n",
    "    Dense(16, activation = 'relu'),\n",
    "    Dense(8, activation = 'relu'),\n",
    "    Dense(4, activation = 'relu'),\n",
    "    Dense(1)])\n",
    "\n",
    "model.compile(optimizer='adam', \n",
    "              loss='mse', \n",
    "              metrics=['mae'])\n",
    "\n",
    "model.summary()"
   ]
  },
  {
   "cell_type": "code",
   "execution_count": 10,
   "id": "a53d5f55",
   "metadata": {
    "pycharm": {
     "name": "#%%\n"
    }
   },
   "outputs": [],
   "source": [
    "import matplotlib.pyplot as plt\n",
    "def plot_loss(model_fit):\n",
    "    plt.figure(figsize = (10, 4))\n",
    "    plt.style.use('ggplot')\n",
    "    plt.plot(model_fit.history['loss'], label='loss')\n",
    "    plt.plot(model_fit.history['val_loss'], label='val_loss')\n",
    "    plt.xlabel('Эпоха')\n",
    "    plt.ylabel('MAE')\n",
    "    plt.ylim(0,5)\n",
    "    plt.legend()\n",
    "    plt.grid(True)"
   ]
  },
  {
   "cell_type": "code",
   "execution_count": 11,
   "id": "366d861e",
   "metadata": {
    "pycharm": {
     "name": "#%%\n"
    }
   },
   "outputs": [],
   "source": [
    "model_fit = model.fit(\n",
    "    X_train,\n",
    "    Y_train,\n",
    "    validation_split = 0.2,\n",
    "    verbose=0, epochs=300)"
   ]
  },
  {
   "cell_type": "code",
   "execution_count": 12,
   "id": "44201c7d",
   "metadata": {
    "pycharm": {
     "name": "#%%\n"
    }
   },
   "outputs": [
    {
     "data": {
      "text/plain": "<Figure size 720x288 with 1 Axes>",
      "image/png": "[encoded data removed]"
     },
     "metadata": {},
     "output_type": "display_data"
    }
   ],
   "source": [
    "plot_loss(model_fit)"
   ]
  },
  {
   "cell_type": "code",
   "execution_count": 13,
   "id": "463f6dc7",
   "metadata": {
    "pycharm": {
     "name": "#%%\n"
    }
   },
   "outputs": [
    {
     "name": "stdout",
     "output_type": "stream",
     "text": [
      "9/9 [==============================] - 0s 0s/step - loss: 0.9372 - mae: 0.7609\n"
     ]
    }
   ],
   "source": [
    "score = model.evaluate(X_test, Y_test, verbose=1)"
   ]
  },
  {
   "cell_type": "code",
   "execution_count": 14,
   "id": "1ca33f10",
   "metadata": {
    "pycharm": {
     "name": "#%%\n"
    }
   },
   "outputs": [
    {
     "name": "stdout",
     "output_type": "stream",
     "text": [
      "21/21 [==============================] - 0s 2ms/step - loss: 0.8045 - mae: 0.7196\n"
     ]
    }
   ],
   "source": [
    "score = model.evaluate(X_train, Y_train, verbose=1)"
   ]
  },
  {
   "cell_type": "code",
   "execution_count": 15,
   "id": "713cb71b",
   "metadata": {
    "pycharm": {
     "name": "#%%\n"
    }
   },
   "outputs": [
    {
     "data": {
      "text/plain": "<Figure size 864x432 with 1 Axes>",
      "image/png": "[encoded data removed]"
     },
     "metadata": {},
     "output_type": "display_data"
    },
    {
     "data": {
      "text/plain": "         Тест   Прогноз\n827  1.862875  2.536553\n699  1.797133  2.636528\n891  3.513742  2.674605\n385  4.200930  2.828906\n154  2.275182  3.091549\n..        ...       ...\n0    1.857143  2.537686\n721  2.869846  2.544751\n66   2.538869  2.571487\n522  2.250822  2.865091\n667  2.988550  2.774240\n\n[277 rows x 2 columns]",
      "text/html": "<div>\n<style scoped>\n    .dataframe tbody tr th:only-of-type {\n        vertical-align: middle;\n    }\n\n    .dataframe tbody tr th {\n        vertical-align: top;\n    }\n\n    .dataframe thead th {\n        text-align: right;\n    }\n</style>\n<table border=\"1\" class=\"dataframe\">\n  <thead>\n    <tr style=\"text-align: right;\">\n      <th></th>\n      <th>Тест</th>\n      <th>Прогноз</th>\n    </tr>\n  </thead>\n  <tbody>\n    <tr>\n      <th>827</th>\n      <td>1.862875</td>\n      <td>2.536553</td>\n    </tr>\n    <tr>\n      <th>699</th>\n      <td>1.797133</td>\n      <td>2.636528</td>\n    </tr>\n    <tr>\n      <th>891</th>\n      <td>3.513742</td>\n      <td>2.674605</td>\n    </tr>\n    <tr>\n      <th>385</th>\n      <td>4.200930</td>\n      <td>2.828906</td>\n    </tr>\n    <tr>\n      <th>154</th>\n      <td>2.275182</td>\n      <td>3.091549</td>\n    </tr>\n    <tr>\n      <th>...</th>\n      <td>...</td>\n      <td>...</td>\n    </tr>\n    <tr>\n      <th>0</th>\n      <td>1.857143</td>\n      <td>2.537686</td>\n    </tr>\n    <tr>\n      <th>721</th>\n      <td>2.869846</td>\n      <td>2.544751</td>\n    </tr>\n    <tr>\n      <th>66</th>\n      <td>2.538869</td>\n      <td>2.571487</td>\n    </tr>\n    <tr>\n      <th>522</th>\n      <td>2.250822</td>\n      <td>2.865091</td>\n    </tr>\n    <tr>\n      <th>667</th>\n      <td>2.988550</td>\n      <td>2.774240</td>\n    </tr>\n  </tbody>\n</table>\n<p>277 rows × 2 columns</p>\n</div>"
     },
     "execution_count": 15,
     "metadata": {},
     "output_type": "execute_result"
    }
   ],
   "source": [
    "pred_test = model.predict(X_test).flatten()\n",
    "pred = pd.DataFrame({'Тест': Y_test, 'Прогноз': pred_test})\n",
    "\n",
    "plt.figure(figsize = (12, 6))\n",
    "plt.style.use('ggplot')\n",
    "a = plt.axes(aspect='equal')\n",
    "plt.scatter(Y_test, pred_test)\n",
    "plt.xlim(0, 6)\n",
    "plt.ylim(0, 5)\n",
    "plt.show()\n",
    "\n",
    "pred"
   ]
  },
  {
   "cell_type": "code",
   "execution_count": 16,
   "id": "d856b817",
   "metadata": {
    "pycharm": {
     "name": "#%%\n"
    }
   },
   "outputs": [
    {
     "name": "stdout",
     "output_type": "stream",
     "text": [
      "INFO:tensorflow:Assets written to: model//model/assets\n"
     ]
    }
   ],
   "source": [
    "models_path = 'model/'\n",
    "model.save(models_path + '/model/')"
   ]
  },
  {
   "cell_type": "code",
   "execution_count": null,
   "id": "3e6bcadd",
   "metadata": {
    "pycharm": {
     "name": "#%%\n"
    }
   },
   "outputs": [],
   "source": []
  }
 ],
 "metadata": {
  "kernelspec": {
   "display_name": "Python 3 (ipykernel)",
   "language": "python",
   "name": "python3"
  },
  "language_info": {
   "codemirror_mode": {
    "name": "ipython",
    "version": 3
   },
   "file_extension": ".py",
   "mimetype": "text/x-python",
   "name": "python",
   "nbconvert_exporter": "python",
   "pygments_lexer": "ipython3",
   "version": "3.7.11"
  }
 },
 "nbformat": 4,
 "nbformat_minor": 5
}